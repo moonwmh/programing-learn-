rm 用来删除文件
rmdir 用来删除文件夹
mkdir 用来新建空文件夹


rm -r *  #删除目录下的所有文件
rm test.txt  #删除该文件